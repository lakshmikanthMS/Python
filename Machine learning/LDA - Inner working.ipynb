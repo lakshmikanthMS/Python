{
 "cells": [
  {
   "cell_type": "code",
   "execution_count": 1,
   "metadata": {
    "collapsed": true
   },
   "outputs": [],
   "source": [
    "import numpy as np\n",
    "import pandas as pd\n",
    "import matplotlib.pyplot as plt\n",
    "from sklearn.preprocessing import StandardScaler\n",
    "from sklearn.model_selection import train_test_split"
   ]
  },
  {
   "cell_type": "code",
   "execution_count": 2,
   "metadata": {},
   "outputs": [
    {
     "data": {
      "text/html": [
       "<div>\n",
       "<style>\n",
       "    .dataframe thead tr:only-child th {\n",
       "        text-align: right;\n",
       "    }\n",
       "\n",
       "    .dataframe thead th {\n",
       "        text-align: left;\n",
       "    }\n",
       "\n",
       "    .dataframe tbody tr th {\n",
       "        vertical-align: top;\n",
       "    }\n",
       "</style>\n",
       "<table border=\"1\" class=\"dataframe\">\n",
       "  <thead>\n",
       "    <tr style=\"text-align: right;\">\n",
       "      <th></th>\n",
       "      <th>Class label</th>\n",
       "      <th>Alcohol</th>\n",
       "      <th>Malic acid</th>\n",
       "      <th>Ash</th>\n",
       "      <th>Alcalinity of ash</th>\n",
       "      <th>Magnesium</th>\n",
       "      <th>Total phenols</th>\n",
       "      <th>Flavanoids</th>\n",
       "      <th>Nonflavanoid phenols</th>\n",
       "      <th>Proanthocyanins</th>\n",
       "      <th>Color intensity</th>\n",
       "      <th>Hue</th>\n",
       "      <th>OD280/OD315 of diluted wines</th>\n",
       "      <th>Proline</th>\n",
       "    </tr>\n",
       "  </thead>\n",
       "  <tbody>\n",
       "    <tr>\n",
       "      <th>0</th>\n",
       "      <td>1</td>\n",
       "      <td>14.23</td>\n",
       "      <td>1.71</td>\n",
       "      <td>2.43</td>\n",
       "      <td>15.6</td>\n",
       "      <td>127</td>\n",
       "      <td>2.80</td>\n",
       "      <td>3.06</td>\n",
       "      <td>0.28</td>\n",
       "      <td>2.29</td>\n",
       "      <td>5.64</td>\n",
       "      <td>1.04</td>\n",
       "      <td>3.92</td>\n",
       "      <td>1065</td>\n",
       "    </tr>\n",
       "    <tr>\n",
       "      <th>1</th>\n",
       "      <td>1</td>\n",
       "      <td>13.20</td>\n",
       "      <td>1.78</td>\n",
       "      <td>2.14</td>\n",
       "      <td>11.2</td>\n",
       "      <td>100</td>\n",
       "      <td>2.65</td>\n",
       "      <td>2.76</td>\n",
       "      <td>0.26</td>\n",
       "      <td>1.28</td>\n",
       "      <td>4.38</td>\n",
       "      <td>1.05</td>\n",
       "      <td>3.40</td>\n",
       "      <td>1050</td>\n",
       "    </tr>\n",
       "    <tr>\n",
       "      <th>2</th>\n",
       "      <td>1</td>\n",
       "      <td>13.16</td>\n",
       "      <td>2.36</td>\n",
       "      <td>2.67</td>\n",
       "      <td>18.6</td>\n",
       "      <td>101</td>\n",
       "      <td>2.80</td>\n",
       "      <td>3.24</td>\n",
       "      <td>0.30</td>\n",
       "      <td>2.81</td>\n",
       "      <td>5.68</td>\n",
       "      <td>1.03</td>\n",
       "      <td>3.17</td>\n",
       "      <td>1185</td>\n",
       "    </tr>\n",
       "    <tr>\n",
       "      <th>3</th>\n",
       "      <td>1</td>\n",
       "      <td>14.37</td>\n",
       "      <td>1.95</td>\n",
       "      <td>2.50</td>\n",
       "      <td>16.8</td>\n",
       "      <td>113</td>\n",
       "      <td>3.85</td>\n",
       "      <td>3.49</td>\n",
       "      <td>0.24</td>\n",
       "      <td>2.18</td>\n",
       "      <td>7.80</td>\n",
       "      <td>0.86</td>\n",
       "      <td>3.45</td>\n",
       "      <td>1480</td>\n",
       "    </tr>\n",
       "    <tr>\n",
       "      <th>4</th>\n",
       "      <td>1</td>\n",
       "      <td>13.24</td>\n",
       "      <td>2.59</td>\n",
       "      <td>2.87</td>\n",
       "      <td>21.0</td>\n",
       "      <td>118</td>\n",
       "      <td>2.80</td>\n",
       "      <td>2.69</td>\n",
       "      <td>0.39</td>\n",
       "      <td>1.82</td>\n",
       "      <td>4.32</td>\n",
       "      <td>1.04</td>\n",
       "      <td>2.93</td>\n",
       "      <td>735</td>\n",
       "    </tr>\n",
       "  </tbody>\n",
       "</table>\n",
       "</div>"
      ],
      "text/plain": [
       "   Class label  Alcohol  Malic acid   Ash  Alcalinity of ash  Magnesium  \\\n",
       "0            1    14.23        1.71  2.43               15.6        127   \n",
       "1            1    13.20        1.78  2.14               11.2        100   \n",
       "2            1    13.16        2.36  2.67               18.6        101   \n",
       "3            1    14.37        1.95  2.50               16.8        113   \n",
       "4            1    13.24        2.59  2.87               21.0        118   \n",
       "\n",
       "   Total phenols  Flavanoids  Nonflavanoid phenols  Proanthocyanins  \\\n",
       "0           2.80        3.06                  0.28             2.29   \n",
       "1           2.65        2.76                  0.26             1.28   \n",
       "2           2.80        3.24                  0.30             2.81   \n",
       "3           3.85        3.49                  0.24             2.18   \n",
       "4           2.80        2.69                  0.39             1.82   \n",
       "\n",
       "   Color intensity   Hue  OD280/OD315 of diluted wines  Proline  \n",
       "0             5.64  1.04                          3.92     1065  \n",
       "1             4.38  1.05                          3.40     1050  \n",
       "2             5.68  1.03                          3.17     1185  \n",
       "3             7.80  0.86                          3.45     1480  \n",
       "4             4.32  1.04                          2.93      735  "
      ]
     },
     "execution_count": 2,
     "metadata": {},
     "output_type": "execute_result"
    }
   ],
   "source": [
    "df = pd.read_csv('https://query.data.world/s/dgyj35citerdqk36rou52lgmfhfity',header=None)\n",
    "df.columns = ['Class label', 'Alcohol','Malic acid', 'Ash','Alcalinity of ash', 'Magnesium',\n",
    "                   'Total phenols', 'Flavanoids','Nonflavanoid phenols','Proanthocyanins','Color intensity', 'Hue',\n",
    "                   'OD280/OD315 of diluted wines','Proline']\n",
    "df.head()"
   ]
  },
  {
   "cell_type": "code",
   "execution_count": 3,
   "metadata": {
    "collapsed": true
   },
   "outputs": [],
   "source": [
    "X = df.iloc[:,1:].values\n",
    "y = df.iloc[:,0].values\n",
    "X_train,X_test,y_train,y_test = train_test_split(X,y,test_size=0.3,random_state=0)\n",
    "sc = StandardScaler()\n",
    "sc.fit(X_train)\n",
    "X_train_std = sc.transform(X_train)\n",
    "X_test_std = sc.transform(X_test)"
   ]
  },
  {
   "cell_type": "code",
   "execution_count": 4,
   "metadata": {},
   "outputs": [
    {
     "name": "stdout",
     "output_type": "stream",
     "text": [
      "class :1 mean vector \n",
      " [ 0.92586625 -0.30912353  0.2592266  -0.79894024  0.30385444  0.96083738\n",
      "  1.05152135 -0.63058306  0.53539208  0.22090961  0.48549453  0.79804628\n",
      "  1.20171181] \n",
      "\n",
      "class :2 mean vector \n",
      " [-0.87273822 -0.38544438 -0.44366976  0.24807052 -0.24090883 -0.10586799\n",
      "  0.01874319 -0.01640055  0.10952058 -0.87962307  0.43923615  0.27761267\n",
      " -0.70155967] \n",
      "\n",
      "class :3 mean vector \n",
      " [ 0.16370064  0.89290617  0.3248787   0.56577583 -0.00998986 -0.94988467\n",
      " -1.22797915  0.74362712 -0.76520548  0.97900417 -1.1697815  -1.30071064\n",
      " -0.39120139] \n",
      "\n"
     ]
    }
   ],
   "source": [
    "mean_vector = []\n",
    "for label in np.unique(y_train):\n",
    "    mean_vector.append(np.mean(X_train_std[y_train==label],axis=0))\n",
    "    print('class :{} mean vector \\n {} \\n'.format(label,mean_vector[label-1]))\n",
    "    "
   ]
  },
  {
   "cell_type": "code",
   "execution_count": 32,
   "metadata": {},
   "outputs": [
    {
     "name": "stdout",
     "output_type": "stream",
     "text": [
      "The shape of within calss scatter matrix 13x13\n"
     ]
    }
   ],
   "source": [
    "d = 13\n",
    "S_W = np.zeros((d,d))\n",
    "for clas,mv in zip(np.unique(y_train),mean_vector):\n",
    "    class_scatter = np.zeros((d,d))\n",
    "    for row in X_train_std[y_train==clas]:\n",
    "        row,mv = row.reshape(d,1),mv.reshape(d,1)\n",
    "        class_scatter += (row-mv).dot((row-mv).T)\n",
    "    S_W += class_scatter\n",
    "\n",
    "print(\"The shape of within calss scatter matrix {}x{}\".format(S_W.shape[0],S_W.shape[1]))"
   ]
  },
  {
   "cell_type": "code",
   "execution_count": 33,
   "metadata": {},
   "outputs": [
    {
     "data": {
      "text/plain": [
       "array([[  51.45101306,    0.670318  ,   -2.06258511,   -3.47238501,\n",
       "           4.84388869,    9.0901686 ,    5.68687116,   -2.41246623,\n",
       "           1.10812187,   18.65670392,    1.62444216,   -1.12474241,\n",
       "           5.56659679],\n",
       "       [   0.670318  ,   84.99305482,    9.47473115,   14.83445274,\n",
       "          -7.89867542,    2.51390052,    1.03042395,   13.69191016,\n",
       "           8.99868657,   -6.65578513,  -16.78460821,    7.3565464 ,\n",
       "         -11.07769284],\n",
       "       [  -2.06258511,    9.47473115,  107.97264694,   62.55949709,\n",
       "          14.26093065,   13.5860753 ,   11.00744636,   20.67291239,\n",
       "           2.32277049,   -2.34240043,    4.37462302,   10.31171475,\n",
       "          -3.64807231],\n",
       "       [  -3.47238501,   14.83445274,   62.55949709,   84.24878958,\n",
       "           1.85151117,    5.27001803,    6.27341911,   14.78290279,\n",
       "          -0.76047476,   -5.43540683,    2.20501071,   12.29673823,\n",
       "          -4.9820588 ],\n",
       "       [   4.84388869,   -7.89867542,   14.26093065,    1.85151117,\n",
       "         117.45959015,    7.05131981,    4.79572529,  -30.10855865,\n",
       "          28.00924022,    2.78008086,    6.00007813,   -4.91405093,\n",
       "          15.67292609],\n",
       "       [   9.0901686 ,    2.51390052,   13.5860753 ,    5.27001803,\n",
       "           7.05131981,   54.9426362 ,   27.24579247,   -6.96515569,\n",
       "          30.77187279,   10.96442305,    0.96291316,   16.34882663,\n",
       "           6.4507137 ],\n",
       "       [   5.68687116,    1.03042395,   11.00744636,    6.27341911,\n",
       "           4.79572529,   27.24579247,   26.97725187,  -13.24736455,\n",
       "          26.40915897,    9.99717861,    0.64812659,    8.92805383,\n",
       "           1.86977814],\n",
       "       [  -2.41246623,   13.69191016,   20.67291239,   14.78290279,\n",
       "         -30.10855865,   -6.96515569,  -13.24736455,   88.72707463,\n",
       "         -10.02630299,   -1.61021507,    3.95245517,   -6.53059358,\n",
       "          -4.91245043],\n",
       "       [   1.10812187,    8.99868657,    2.32277049,   -0.76047476,\n",
       "          28.00924022,   30.77187279,   26.40915897,  -10.02630299,\n",
       "          91.45258993,   17.5772277 ,   -4.37660864,    9.3585658 ,\n",
       "          11.28131914],\n",
       "       [  18.65670392,   -6.65578513,   -2.34240043,   -5.43540683,\n",
       "           2.78008086,   10.96442305,    9.99717861,   -1.61021507,\n",
       "          17.5772277 ,   50.58913624,   -9.72182311,   -6.07114718,\n",
       "          11.42220144],\n",
       "       [   1.62444216,  -16.78460821,    4.37462302,    2.20501071,\n",
       "           6.00007813,    0.96291316,    0.64812659,    3.95245517,\n",
       "          -4.37660864,   -9.72182311,   57.22470456,   -0.89921605,\n",
       "           5.91504769],\n",
       "       [  -1.12474241,    7.3565464 ,   10.31171475,   12.29673823,\n",
       "          -4.91405093,   16.34882663,    8.92805383,   -6.53059358,\n",
       "           9.3585658 ,   -6.07114718,   -0.89921605,   35.53382867,\n",
       "          -6.72922529],\n",
       "       [   5.56659679,  -11.07769284,   -3.64807231,   -4.9820588 ,\n",
       "          15.67292609,    6.4507137 ,    1.86977814,   -4.91245043,\n",
       "          11.28131914,   11.42220144,    5.91504769,   -6.72922529,\n",
       "          36.76208814]])"
      ]
     },
     "execution_count": 33,
     "metadata": {},
     "output_type": "execute_result"
    }
   ],
   "source": [
    "S_W"
   ]
  },
  {
   "cell_type": "markdown",
   "metadata": {},
   "source": [
    "### Computing scatter matrix is same as computing co-variance matrix"
   ]
  },
  {
   "cell_type": "code",
   "execution_count": 40,
   "metadata": {},
   "outputs": [],
   "source": [
    "d = 13\n",
    "S_W1 = np.zeros((d,d))\n",
    "for clas in np.unique(y_train):\n",
    "    clas_scatter = np.cov(X_train_std[y_train==clas].T)\n",
    "    S_W1 += clas_scatter "
   ]
  },
  {
   "cell_type": "code",
   "execution_count": 41,
   "metadata": {},
   "outputs": [
    {
     "data": {
      "text/plain": [
       "array([[  1.24583230e+00,   5.13845419e-02,  -3.29458743e-02,\n",
       "         -8.95327553e-02,   1.15462644e-01,   2.45386077e-01,\n",
       "          1.50110340e-01,  -5.56872417e-02,   9.90787667e-02,\n",
       "          4.87857619e-01,   2.37631203e-02,  -6.97155580e-03,\n",
       "          1.34211228e-01],\n",
       "       [  5.13845419e-02,   2.15469734e+00,   2.24341335e-01,\n",
       "          3.54339113e-01,  -1.96603001e-01,   3.60539531e-02,\n",
       "         -5.40272908e-03,   3.40166629e-01,   1.68397895e-01,\n",
       "         -1.67482338e-01,  -3.57550070e-01,   1.77277407e-01,\n",
       "         -2.54171698e-01],\n",
       "       [ -3.29458743e-02,   2.24341335e-01,   2.52503549e+00,\n",
       "          1.45812968e+00,   3.70291335e-01,   3.36648199e-01,\n",
       "          2.38744163e-01,   4.71351788e-01,   3.09124828e-02,\n",
       "         -5.64161940e-02,   1.28417016e-01,   2.34080150e-01,\n",
       "         -1.06647806e-01],\n",
       "       [ -8.95327553e-02,   3.54339113e-01,   1.45812968e+00,\n",
       "          1.98052354e+00,   8.13974218e-02,   1.17951658e-01,\n",
       "          1.25215529e-01,   3.27635494e-01,  -3.73250441e-02,\n",
       "         -1.29452248e-01,   6.16221030e-02,   2.55451847e-01,\n",
       "         -1.29087470e-01],\n",
       "       [  1.15462644e-01,  -1.96603001e-01,   3.70291335e-01,\n",
       "          8.13974218e-02,   2.70477156e+00,   1.60415112e-01,\n",
       "          1.49801537e-01,  -7.36919038e-01,   5.98468757e-01,\n",
       "          7.61834660e-02,   1.18491069e-01,  -1.13417461e-01,\n",
       "          3.17966412e-01],\n",
       "       [  2.45386077e-01,   3.60539531e-02,   3.36648199e-01,\n",
       "          1.17951658e-01,   1.60415112e-01,   1.29761889e+00,\n",
       "          6.15561338e-01,  -1.16307709e-01,   7.21828885e-01,\n",
       "          3.04018445e-01,   7.15299596e-03,   3.61148004e-01,\n",
       "          1.59978354e-01],\n",
       "       [  1.50110340e-01,  -5.40272908e-03,   2.38744163e-01,\n",
       "          1.25215529e-01,   1.49801537e-01,   6.15561338e-01,\n",
       "          6.22380329e-01,  -3.45310854e-01,   5.98214392e-01,\n",
       "          2.60334868e-01,   2.00700203e-03,   1.67814584e-01,\n",
       "          4.92001222e-02],\n",
       "       [ -5.56872417e-02,   3.40166629e-01,   4.71351788e-01,\n",
       "          3.27635494e-01,  -7.36919038e-01,  -1.16307709e-01,\n",
       "         -3.45310854e-01,   2.20576093e+00,  -1.79296038e-01,\n",
       "         -2.85422324e-02,   1.19312467e-01,  -1.09606368e-01,\n",
       "         -8.25348168e-02],\n",
       "       [  9.90787667e-02,   1.68397895e-01,   3.09124828e-02,\n",
       "         -3.73250441e-02,   5.98468757e-01,   7.21828885e-01,\n",
       "          5.98214392e-01,  -1.79296038e-01,   2.10729599e+00,\n",
       "          5.06807056e-01,  -1.24925852e-01,   1.81378385e-01,\n",
       "          2.69049164e-01],\n",
       "       [  4.87857619e-01,  -1.67482338e-01,  -5.64161940e-02,\n",
       "         -1.29452248e-01,   7.61834660e-02,   3.04018445e-01,\n",
       "          2.60334868e-01,  -2.85422324e-02,   5.06807056e-01,\n",
       "          1.39684040e+00,  -2.85939124e-01,  -1.53586905e-01,\n",
       "          2.92841524e-01],\n",
       "       [  2.37631203e-02,  -3.57550070e-01,   1.28417016e-01,\n",
       "          6.16221030e-02,   1.18491069e-01,   7.15299596e-03,\n",
       "          2.00700203e-03,   1.19312467e-01,  -1.24925852e-01,\n",
       "         -2.85939124e-01,   1.30413111e+00,  -1.15413486e-02,\n",
       "          1.31487561e-01],\n",
       "       [ -6.97155580e-03,   1.77277407e-01,   2.34080150e-01,\n",
       "          2.55451847e-01,  -1.13417461e-01,   3.61148004e-01,\n",
       "          1.67814584e-01,  -1.09606368e-01,   1.81378385e-01,\n",
       "         -1.53586905e-01,  -1.15413486e-02,   8.28067326e-01,\n",
       "         -1.63273708e-01],\n",
       "       [  1.34211228e-01,  -2.54171698e-01,  -1.06647806e-01,\n",
       "         -1.29087470e-01,   3.17966412e-01,   1.59978354e-01,\n",
       "          4.92001222e-02,  -8.25348168e-02,   2.69049164e-01,\n",
       "          2.92841524e-01,   1.31487561e-01,  -1.63273708e-01,\n",
       "          8.95681258e-01]])"
      ]
     },
     "execution_count": 41,
     "metadata": {},
     "output_type": "execute_result"
    }
   ],
   "source": [
    "S_W1"
   ]
  },
  {
   "cell_type": "code",
   "execution_count": 49,
   "metadata": {},
   "outputs": [],
   "source": [
    "#Computing between class scatter matrix\n",
    "overall_mean_vec = np.mean(X_train_std, axis=0)\n",
    "d=13\n",
    "S_B = np.zeros((d,d))\n",
    "for clas,mv in zip(np.unique(y_train),mean_vector):\n",
    "    n = X_train_std[y_train==clas].shape[0]\n",
    "    mv,ovm = mv.reshape(d,1),overall_mean_vec.reshape(d,1)\n",
    "    S_B += n * (mv-ovm).dot((mv-ovm).T)"
   ]
  },
  {
   "cell_type": "code",
   "execution_count": 50,
   "metadata": {},
   "outputs": [
    {
     "data": {
      "text/plain": [
       "(13, 13)"
      ]
     },
     "execution_count": 50,
     "metadata": {},
     "output_type": "execute_result"
    }
   ],
   "source": [
    "S_B.shape"
   ]
  },
  {
   "cell_type": "code",
   "execution_count": 51,
   "metadata": {},
   "outputs": [
    {
     "data": {
      "text/plain": [
       "array([[ 72.54898694,  10.15085406,  30.43493641, -36.95537717,\n",
       "         21.49817241,  34.66924776,  31.10545402, -18.39143902,\n",
       "         10.7602395 ,  51.40688925,  -7.50573953,  10.23103794,\n",
       "         72.26519802],\n",
       "       [ 10.15085406,  39.00694518,  15.32718585,  22.87506273,\n",
       "          0.48064793, -39.56671878, -51.73245374,  31.3464995 ,\n",
       "        -32.60256622,  44.47726853, -50.85654449, -55.76044251,\n",
       "        -13.83461128],\n",
       "       [ 30.43493641,  15.32718585,  16.02735306,  -7.24397229,\n",
       "          8.27440794,   1.46362979,  -3.4672309 ,   2.2735902 ,\n",
       "         -5.53040633,  32.54548762, -17.81608831, -12.5503173 ,\n",
       "         23.26415138],\n",
       "       [-36.95537717,  22.87506273,  -7.24397229,  39.75121042,\n",
       "        -12.83663892, -50.8027022 , -57.69290912,  34.67799011,\n",
       "        -30.93129535,   1.63442966, -33.34032298, -47.8860156 ,\n",
       "        -54.67824413],\n",
       "       [ 21.49817241,   0.48064793,   8.27440794, -12.83663892,\n",
       "          6.54040985,  13.26003311,  12.98847983,  -7.73062353,\n",
       "          5.48196174,  12.72620954,   1.12481807,   6.87729589,\n",
       "         23.02418448],\n",
       "       [ 34.66924776, -39.56671878,   1.46362979, -50.8027022 ,\n",
       "         13.26003311,  69.0573638 ,  81.14176016, -48.8730331 ,\n",
       "         45.44884096, -19.49453624,  55.27121364,  72.47496201,\n",
       "         62.83121526],\n",
       "       [ 31.10545402, -51.73245374,  -3.4672309 , -57.69290912,\n",
       "         12.98847983,  81.14176016,  97.02274813, -58.4984759 ,\n",
       "         55.50760673, -33.59309859,  71.1000718 ,  89.72506639,\n",
       "         66.71425135],\n",
       "       [-18.39143902,  31.3464995 ,   2.2735902 ,  34.67799011,\n",
       "         -7.73062353, -48.8730331 , -58.4984759 ,  35.27292537,\n",
       "        -33.50834497,  20.61530636, -43.04461097, -54.20600559,\n",
       "        -39.92915118],\n",
       "       [ 10.7602395 , -32.60256622,  -5.53040633, -30.93129535,\n",
       "          5.48196174,  45.44884096,  55.50760673, -33.50834497,\n",
       "         32.54741007, -26.2094518 ,  44.08367397,  53.41639872,\n",
       "         32.44778424],\n",
       "       [ 51.40688925,  44.47726853,  32.54548762,   1.63442966,\n",
       "         12.72620954, -19.49453624, -33.59309859,  20.61530636,\n",
       "        -26.2094518 ,  73.41086376, -54.7244678 , -49.48272723,\n",
       "         27.45251006],\n",
       "       [ -7.50573953, -50.85654449, -17.81608831, -33.34032298,\n",
       "          1.12481807,  55.27121364,  71.1000718 , -43.04461097,\n",
       "         44.08367397, -54.7244678 ,  66.77529544,  74.72697616,\n",
       "         24.25431791],\n",
       "       [ 10.23103794, -55.76044251, -12.5503173 , -47.8860156 ,\n",
       "          6.87729589,  72.47496201,  89.72506639, -54.20600559,\n",
       "         53.41639872, -49.48272723,  74.72697616,  88.46617133,\n",
       "         46.62692825],\n",
       "       [ 72.26519802, -13.83461128,  23.26415138, -54.67824413,\n",
       "         23.02418448,  62.83121526,  66.71425135, -39.92915118,\n",
       "         32.44778424,  27.45251006,  24.25431791,  46.62692825,\n",
       "         87.23791186]])"
      ]
     },
     "execution_count": 51,
     "metadata": {},
     "output_type": "execute_result"
    }
   ],
   "source": [
    "S_B"
   ]
  },
  {
   "cell_type": "code",
   "execution_count": 86,
   "metadata": {
    "collapsed": true
   },
   "outputs": [],
   "source": [
    "#Computing Eigen values for LDA\n",
    "eigenval,eigenvec = np.linalg.eig(np.linalg.inv(S_W1).dot(S_B))"
   ]
  },
  {
   "cell_type": "code",
   "execution_count": 87,
   "metadata": {},
   "outputs": [
    {
     "data": {
      "text/plain": [
       "array([ 0, 12, 11,  8,  9, 10,  6,  7,  4,  5,  3,  1,  2], dtype=int32)"
      ]
     },
     "execution_count": 87,
     "metadata": {},
     "output_type": "execute_result"
    }
   ],
   "source": [
    "np.argsort(np.abs(eigenval))"
   ]
  },
  {
   "cell_type": "code",
   "execution_count": 88,
   "metadata": {},
   "outputs": [
    {
     "data": {
      "text/plain": [
       "array([ 2,  1,  3,  5,  4,  7,  6, 10,  9,  8, 11, 12,  0], dtype=int32)"
      ]
     },
     "execution_count": 88,
     "metadata": {},
     "output_type": "execute_result"
    }
   ],
   "source": [
    "np.argsort(np.abs(eigenval))[::-1]"
   ]
  },
  {
   "cell_type": "code",
   "execution_count": 89,
   "metadata": {},
   "outputs": [
    {
     "data": {
      "text/plain": [
       "array([  0.00000000e+00,   1.56436361e+02,   4.52721581e+02,\n",
       "         8.06402078e-14,   2.35744447e-14,   2.35744447e-14,\n",
       "         2.29059367e-14,   2.29059367e-14,   1.45248014e-14,\n",
       "         1.58237296e-14,   1.58237296e-14,   5.31952349e-15,\n",
       "         9.56491800e-16])"
      ]
     },
     "execution_count": 89,
     "metadata": {},
     "output_type": "execute_result"
    }
   ],
   "source": [
    "np.abs(eigenval)"
   ]
  },
  {
   "cell_type": "code",
   "execution_count": 90,
   "metadata": {},
   "outputs": [
    {
     "data": {
      "text/plain": [
       "[(452.72158124497446,\n",
       "  array([-0.06615877+0.j,  0.03862056+0.j, -0.02174540+0.j,  0.18400808+0.j,\n",
       "         -0.00343355+0.j,  0.23263171+0.j, -0.77466862+0.j, -0.08114771+0.j,\n",
       "          0.08750287+0.j,  0.18500646+0.j, -0.06595992+0.j, -0.38052382+0.j,\n",
       "         -0.32854326+0.j])),\n",
       " (156.43636121952329,\n",
       "  array([-0.37974125+0.j, -0.22064303+0.j, -0.38162230+0.j,  0.30175689+0.j,\n",
       "          0.01414971+0.j,  0.02337798+0.j,  0.18689504+0.j,  0.06961935+0.j,\n",
       "          0.17958558+0.j, -0.28397654+0.j,  0.23490757+0.j,  0.07295849+0.j,\n",
       "         -0.59707531+0.j])),\n",
       " (8.0640207818002126e-14,\n",
       "  array([ 0.64780700+0.j,  0.00101157+0.j, -0.30629004+0.j,  0.25473641+0.j,\n",
       "          0.00956389+0.j, -0.05063823+0.j,  0.34659175+0.j,  0.03479873+0.j,\n",
       "          0.10580979+0.j, -0.11877707+0.j,  0.14906602+0.j, -0.32535686+0.j,\n",
       "         -0.37982480+0.j])),\n",
       " (2.3574444678332492e-14,\n",
       "  array([-0.71129525-0.j        ,  0.06882158+0.01697541j,\n",
       "          0.37466640-0.11782753j, -0.29526265-0.14224893j,\n",
       "         -0.00393849+0.00983835j, -0.15100227-0.06646184j,\n",
       "          0.03787804+0.03658004j,  0.02884123-0.05551501j,\n",
       "         -0.08941037-0.11261035j,  0.11683879-0.05831442j,\n",
       "         -0.06112812-0.05340603j,  0.09806534-0.03653745j,\n",
       "          0.37025182+0.03145599j])),\n",
       " (2.3574444678332492e-14,\n",
       "  array([-0.71129525+0.j        ,  0.06882158-0.01697541j,\n",
       "          0.37466640+0.11782753j, -0.29526265+0.14224893j,\n",
       "         -0.00393849-0.00983835j, -0.15100227+0.06646184j,\n",
       "          0.03787804-0.03658004j,  0.02884123+0.05551501j,\n",
       "         -0.08941037+0.11261035j,  0.11683879+0.05831442j,\n",
       "         -0.06112812+0.05340603j,  0.09806534+0.03653745j,\n",
       "          0.37025182-0.03145599j])),\n",
       " (2.2905936685651841e-14,\n",
       "  array([ 0.70242832-0.j        , -0.17137078-0.13929059j,\n",
       "         -0.31520579-0.02928561j,  0.13048934-0.06476677j,\n",
       "         -0.02619512+0.01558501j,  0.07613700+0.10009874j,\n",
       "         -0.21684910-0.01705005j, -0.00447770+0.04815613j,\n",
       "          0.16419977-0.03901885j, -0.01080271+0.06100084j,\n",
       "          0.23625788+0.03113322j, -0.10258777-0.10359776j,\n",
       "         -0.39586973-0.05396877j])),\n",
       " (2.2905936685651841e-14,\n",
       "  array([ 0.70242832+0.j        , -0.17137078+0.13929059j,\n",
       "         -0.31520579+0.02928561j,  0.13048934+0.06476677j,\n",
       "         -0.02619512-0.01558501j,  0.07613700-0.10009874j,\n",
       "         -0.21684910+0.01705005j, -0.00447770-0.04815613j,\n",
       "          0.16419977+0.03901885j, -0.01080271-0.06100084j,\n",
       "          0.23625788-0.03113322j, -0.10258777+0.10359776j,\n",
       "         -0.39586973+0.05396877j])),\n",
       " (1.5823729572975777e-14,\n",
       "  array([-0.72593514-0.j        ,  0.05265035+0.00976855j,\n",
       "          0.36702800-0.11838304j, -0.34903403+0.02463175j,\n",
       "          0.00192665+0.00708386j, -0.05005173+0.02206153j,\n",
       "          0.01362418+0.08135024j, -0.01631531-0.06762835j,\n",
       "         -0.11340098-0.0398156j ,  0.04018428+0.00090657j,\n",
       "         -0.09551064-0.09225196j, -0.03393621-0.03578452j,\n",
       "          0.38492997-0.00306861j])),\n",
       " (1.5823729572975777e-14,\n",
       "  array([-0.72593514+0.j        ,  0.05265035-0.00976855j,\n",
       "          0.36702800+0.11838304j, -0.34903403-0.02463175j,\n",
       "          0.00192665-0.00708386j, -0.05005173-0.02206153j,\n",
       "          0.01362418-0.08135024j, -0.01631531+0.06762835j,\n",
       "         -0.11340098+0.0398156j ,  0.04018428-0.00090657j,\n",
       "         -0.09551064+0.09225196j, -0.03393621+0.03578452j,\n",
       "          0.38492997+0.00306861j])),\n",
       " (1.4524801399417374e-14,\n",
       "  array([-0.35524532+0.j, -0.09170189+0.j,  0.54318885+0.j,  0.18559094+0.j,\n",
       "          0.03265847+0.j,  0.18059752+0.j, -0.12464204+0.j,  0.34705565+0.j,\n",
       "          0.36367932+0.j, -0.14025608+0.j,  0.11838280+0.j, -0.24577866+0.j,\n",
       "          0.37399472+0.j])),\n",
       " (5.3195234883037411e-15,\n",
       "  array([ 0.77649302+0.j, -0.15143112+0.j, -0.16047739+0.j,  0.23190441+0.j,\n",
       "         -0.01699991+0.j,  0.07561767+0.j, -0.14550250+0.j,  0.01225273+0.j,\n",
       "          0.15534933+0.j, -0.13362105+0.j,  0.16838030+0.j, -0.06764733+0.j,\n",
       "         -0.43857762+0.j])),\n",
       " (9.5649179969733198e-16,\n",
       "  array([-0.77942546+0.j,  0.12772938+0.j,  0.22567348+0.j, -0.23198297+0.j,\n",
       "          0.00241402+0.j, -0.07466176+0.j,  0.09563686+0.j, -0.02083551+0.j,\n",
       "         -0.13666793+0.j,  0.12582408+0.j, -0.13117865+0.j,  0.05543017+0.j,\n",
       "          0.44887153+0.j])),\n",
       " (0.0,\n",
       "  array([ 0.77827486+0.j, -0.12439330+0.j, -0.23828392+0.j,  0.23200077+0.j,\n",
       "          0.00772727+0.j,  0.07503049+0.j, -0.08848909+0.j,  0.02123158+0.j,\n",
       "          0.13232160+0.j, -0.12474834+0.j,  0.12594451+0.j, -0.05495337+0.j,\n",
       "         -0.44976386+0.j]))]"
      ]
     },
     "execution_count": 90,
     "metadata": {},
     "output_type": "execute_result"
    }
   ],
   "source": [
    "eigen_pairs = [(np.abs(eigenval[i]),eigenvec[:,i]) for i in (np.argsort(np.abs(eigenval))[::-1])]\n",
    "eigen_pairs"
   ]
  },
  {
   "cell_type": "code",
   "execution_count": 91,
   "metadata": {},
   "outputs": [
    {
     "name": "stdout",
     "output_type": "stream",
     "text": [
      "452.721581245\n",
      "156.43636122\n",
      "8.0640207818e-14\n",
      "2.35744446783e-14\n",
      "2.35744446783e-14\n",
      "2.29059366857e-14\n",
      "2.29059366857e-14\n",
      "1.5823729573e-14\n",
      "1.5823729573e-14\n",
      "1.45248013994e-14\n",
      "5.3195234883e-15\n",
      "9.56491799697e-16\n",
      "0.0\n"
     ]
    }
   ],
   "source": [
    "for eigen_val in eigen_pairs:\n",
    "    print(eigen_val[0])"
   ]
  },
  {
   "cell_type": "code",
   "execution_count": 93,
   "metadata": {},
   "outputs": [
    {
     "name": "stderr",
     "output_type": "stream",
     "text": [
      "C:\\ProgramData\\Anaconda3\\lib\\site-packages\\matplotlib\\transforms.py:814: ComplexWarning: Casting complex values to real discards the imaginary part\n",
      "  points = np.array(args, dtype=float).reshape(2, 2)\n",
      "C:\\ProgramData\\Anaconda3\\lib\\site-packages\\numpy\\core\\numeric.py:531: ComplexWarning: Casting complex values to real discards the imaginary part\n",
      "  return array(a, dtype, copy=False, order=order)\n"
     ]
    },
    {
     "data": {
      "image/png": "[encoded data removed]",
      "text/plain": [
       "<matplotlib.figure.Figure at 0xe46f030>"
      ]
     },
     "metadata": {},
     "output_type": "display_data"
    }
   ],
   "source": [
    "total = sum(eigenval)\n",
    "discr = [(i/total) for i in sorted(eigenval,reverse=True)]\n",
    "cum_discr = np.cumsum(discr)\n",
    "plt.bar(range(1,14),discr,alpha=0.5,align='center',label='individual \"discriminability\"')\n",
    "plt.step(range(1,14),cum_discr,where='mid',label='cumulative \"discriminability\"')\n",
    "plt.ylabel('\"discriminability\" ratio')\n",
    "plt.xlabel('Linear Discriminants')\n",
    "plt.legend(loc='best')\n",
    "plt.ylim((-0.1,1.1))\n",
    "plt.show()"
   ]
  },
  {
   "cell_type": "code",
   "execution_count": null,
   "metadata": {
    "collapsed": true
   },
   "outputs": [],
   "source": []
  }
 ],
 "metadata": {
  "kernelspec": {
   "display_name": "Python 3",
   "language": "python",
   "name": "python3"
  },
  "language_info": {
   "codemirror_mode": {
    "name": "ipython",
    "version": 3
   },
   "file_extension": ".py",
   "mimetype": "text/x-python",
   "name": "python",
   "nbconvert_exporter": "python",
   "pygments_lexer": "ipython3",
   "version": "3.6.3"
  }
 },
 "nbformat": 4,
 "nbformat_minor": 2
}
