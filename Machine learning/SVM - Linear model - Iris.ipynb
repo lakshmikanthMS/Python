{
 "cells": [
  {
   "cell_type": "code",
   "execution_count": 14,
   "metadata": {},
   "outputs": [],
   "source": [
    "import numpy as np\n",
    "from sklearn.model_selection import train_test_split\n",
    "from sklearn.preprocessing import StandardScaler\n",
    "from sklearn.svm import SVC\n",
    "from sklearn.datasets import load_iris\n",
    "import matplotlib.pyplot as plt\n",
    "from matplotlib.colors import ListedColormap"
   ]
  },
  {
   "cell_type": "code",
   "execution_count": 3,
   "metadata": {},
   "outputs": [],
   "source": [
    "#Extract the data\n",
    "data = load_iris()\n",
    "X = data.data\n",
    "y = data.target"
   ]
  },
  {
   "cell_type": "code",
   "execution_count": 38,
   "metadata": {},
   "outputs": [],
   "source": [
    "#Preprocessing\n",
    "sc = StandardScaler()\n",
    "sc.fit(X)\n",
    "X_std = sc.transform(X)"
   ]
  },
  {
   "cell_type": "code",
   "execution_count": 44,
   "metadata": {},
   "outputs": [],
   "source": [
    "#Create train and test data\n",
    "X_train,X_test,y_train,y_test = train_test_split(X_std,y,test_size=0.3,random_state=21)"
   ]
  },
  {
   "cell_type": "code",
   "execution_count": 45,
   "metadata": {},
   "outputs": [],
   "source": [
    "#Instantiate the model\n",
    "svm = SVC(kernel='linear',C=1.0,random_state=0)"
   ]
  },
  {
   "cell_type": "code",
   "execution_count": 46,
   "metadata": {},
   "outputs": [
    {
     "data": {
      "text/plain": [
       "SVC(C=1.0, cache_size=200, class_weight=None, coef0=0.0,\n",
       "  decision_function_shape='ovr', degree=3, gamma='auto', kernel='linear',\n",
       "  max_iter=-1, probability=False, random_state=0, shrinking=True,\n",
       "  tol=0.001, verbose=False)"
      ]
     },
     "execution_count": 46,
     "metadata": {},
     "output_type": "execute_result"
    }
   ],
   "source": [
    "#Fit the training data\n",
    "svm.fit(X_train[:,[2,3]],y_train)"
   ]
  },
  {
   "cell_type": "code",
   "execution_count": 65,
   "metadata": {},
   "outputs": [],
   "source": [
    "#Defining function to plot the data points and decision boundry\n",
    "\n",
    "marker = ('s','^','*')\n",
    "colors = ['red','green','blue','gray']\n",
    "cmap = ListedColormap(colors[:len(np.unique(y))])\n",
    "    \n",
    "def plot_decision_boundry(X,y,classifier):\n",
    "    X1_min,X1_max = X[:,2].min() - 1,X[:,2].max() + 1\n",
    "    X2_min,X2_max = X[:,3].min() - 1,X[:,3].max() + 1\n",
    "    XX1,XX2 = np.meshgrid(np.arange(X1_min,X1_max,0.02),np.arange(X2_min,X2_max,0.02))\n",
    "    z = classifier.predict(np.array([XX1.ravel(),XX2.ravel()]).T)\n",
    "    z = z.reshape(XX1.shape)\n",
    "    plt.figure(figsize=(8,6))\n",
    "    plt.contourf(XX1,XX2,z,alpha=0.3,cmap=cmap)\n",
    "    plt.title('SVM Decision boundry')\n",
    "    for idx,clas in enumerate(np.unique(y)):\n",
    "        plt.scatter(X[y==clas,2],X[y==clas,3],alpha=1,marker=marker[idx],label=clas)\n",
    "    plt.legend(loc='upper left')\n",
    "    plt.xlabel('petal length')\n",
    "    plt.ylabel('petal width')\n",
    "    plt.show()"
   ]
  },
  {
   "cell_type": "code",
   "execution_count": 66,
   "metadata": {},
   "outputs": [
    {
     "data": {
      "image/png": "[encoded data removed]",
      "text/plain": [
       "<Figure size 576x432 with 1 Axes>"
      ]
     },
     "metadata": {},
     "output_type": "display_data"
    }
   ],
   "source": [
    "plot_decision_boundry(X=np.vstack((X_train,X_test)),y=np.hstack((y_train,y_test)),classifier=svm)"
   ]
  },
  {
   "cell_type": "code",
   "execution_count": null,
   "metadata": {},
   "outputs": [],
   "source": []
  }
 ],
 "metadata": {
  "kernelspec": {
   "display_name": "Python 3",
   "language": "python",
   "name": "python3"
  },
  "language_info": {
   "codemirror_mode": {
    "name": "ipython",
    "version": 3
   },
   "file_extension": ".py",
   "mimetype": "text/x-python",
   "name": "python",
   "nbconvert_exporter": "python",
   "pygments_lexer": "ipython3",
   "version": "3.6.5"
  }
 },
 "nbformat": 4,
 "nbformat_minor": 2
}
