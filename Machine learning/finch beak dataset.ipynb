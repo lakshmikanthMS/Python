{
 "cells": [
  {
   "cell_type": "code",
   "execution_count": 1,
   "metadata": {},
   "outputs": [],
   "source": [
    "import numpy as np"
   ]
  },
  {
   "cell_type": "code",
   "execution_count": 3,
   "metadata": {},
   "outputs": [],
   "source": [
    "def draw_bs_pairs_linreg(x,y,size=1):\n",
    "    indexes = np.arange(len(x))\n",
    "    bs_slope_replicates = np.empty(size)\n",
    "    bs_intercept_replicates = np.empty(size)\n",
    "    for i in range(size):\n",
    "        idx_samples = np.random.choice(indexes, size=len(indexes))\n",
    "        bs_x,bs_y = x[idx_samples],y[idx_samples]\n",
    "        bs_slope_replicates[i],bs_intercept_replicates[i] = np.polyfit(bs_x,bs_y,1)\n",
    "        \n",
    "    return bs_slope_replicates,bs_intercept_replicates"
   ]
  },
  {
   "cell_type": "code",
   "execution_count": null,
   "metadata": {},
   "outputs": [],
   "source": []
  }
 ],
 "metadata": {
  "kernelspec": {
   "display_name": "Python 3",
   "language": "python",
   "name": "python3"
  },
  "language_info": {
   "codemirror_mode": {
    "name": "ipython",
    "version": 3
   },
   "file_extension": ".py",
   "mimetype": "text/x-python",
   "name": "python",
   "nbconvert_exporter": "python",
   "pygments_lexer": "ipython3",
   "version": "3.6.5"
  }
 },
 "nbformat": 4,
 "nbformat_minor": 2
}
